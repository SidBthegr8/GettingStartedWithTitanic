{
 "cells": [
  {
   "cell_type": "code",
   "execution_count": 1,
   "id": "46b8b215",
   "metadata": {
    "_cell_guid": "b1076dfc-b9ad-4769-8c92-a6c4dae69d19",
    "_uuid": "8f2839f25d086af736a60e9eeb907d3b93b6e0e5",
    "execution": {
     "iopub.execute_input": "2024-09-14T01:42:11.656017Z",
     "iopub.status.busy": "2024-09-14T01:42:11.654882Z",
     "iopub.status.idle": "2024-09-14T01:42:12.107976Z",
     "shell.execute_reply": "2024-09-14T01:42:12.106566Z"
    },
    "papermill": {
     "duration": 0.46175,
     "end_time": "2024-09-14T01:42:12.110822",
     "exception": false,
     "start_time": "2024-09-14T01:42:11.649072",
     "status": "completed"
    },
    "tags": []
   },
   "outputs": [
    {
     "name": "stdout",
     "output_type": "stream",
     "text": [
      "/kaggle/input/titanic/train.csv\n",
      "/kaggle/input/titanic/test.csv\n",
      "/kaggle/input/titanic/gender_submission.csv\n"
     ]
    }
   ],
   "source": [
    "# This Python 3 environment comes with many helpful analytics libraries installed\n",
    "# It is defined by the kaggle/python Docker image: https://github.com/kaggle/docker-python\n",
    "# For example, here's several helpful packages to load\n",
    "\n",
    "import numpy as np # linear algebra\n",
    "import pandas as pd # data processing, CSV file I/O (e.g. pd.read_csv)\n",
    "\n",
    "# Input data files are available in the read-only \"../input/\" directory\n",
    "# For example, running this (by clicking run or pressing Shift+Enter) will list all files under the input directory\n",
    "\n",
    "import os\n",
    "for dirname, _, filenames in os.walk('/kaggle/input'):\n",
    "    for filename in filenames:\n",
    "        print(os.path.join(dirname, filename))\n",
    "\n",
    "# You can write up to 20GB to the current directory (/kaggle/working/) that gets preserved as output when you create a version using \"Save & Run All\" \n",
    "# You can also write temporary files to /kaggle/temp/, but they won't be saved outside of the current session"
   ]
  },
  {
   "cell_type": "code",
   "execution_count": 2,
   "id": "7e42ec11",
   "metadata": {
    "execution": {
     "iopub.execute_input": "2024-09-14T01:42:12.118674Z",
     "iopub.status.busy": "2024-09-14T01:42:12.117611Z",
     "iopub.status.idle": "2024-09-14T01:42:12.160497Z",
     "shell.execute_reply": "2024-09-14T01:42:12.158997Z"
    },
    "papermill": {
     "duration": 0.049452,
     "end_time": "2024-09-14T01:42:12.163208",
     "exception": false,
     "start_time": "2024-09-14T01:42:12.113756",
     "status": "completed"
    },
    "tags": []
   },
   "outputs": [
    {
     "name": "stdout",
     "output_type": "stream",
     "text": [
      "['PassengerId', 'Survived', 'Pclass', 'Name', 'Sex', 'Age', 'SibSp', 'Parch', 'Ticket', 'Fare', 'Cabin', 'Embarked']\n"
     ]
    }
   ],
   "source": [
    "train_data = pd.read_csv(\"/kaggle/input/titanic/train.csv\")\n",
    "test_data = pd.read_csv(\"/kaggle/input/titanic/test.csv\")\n",
    "#print(train_data.head)\n",
    "train_data = train_data.dropna()\n",
    "#print(train_data.head)\n",
    "print(list(train_data))\n"
   ]
  },
  {
   "cell_type": "code",
   "execution_count": 3,
   "id": "d43a7e04",
   "metadata": {
    "execution": {
     "iopub.execute_input": "2024-09-14T01:42:12.170105Z",
     "iopub.status.busy": "2024-09-14T01:42:12.169707Z",
     "iopub.status.idle": "2024-09-14T01:42:14.384710Z",
     "shell.execute_reply": "2024-09-14T01:42:14.383387Z"
    },
    "papermill": {
     "duration": 2.221606,
     "end_time": "2024-09-14T01:42:14.387495",
     "exception": false,
     "start_time": "2024-09-14T01:42:12.165889",
     "status": "completed"
    },
    "tags": []
   },
   "outputs": [
    {
     "name": "stdout",
     "output_type": "stream",
     "text": [
      "     Pclass  SibSp  Parch  Sex_female  Sex_male\n",
      "1         1      1      0        True     False\n",
      "3         1      1      0        True     False\n",
      "6         1      0      0       False      True\n",
      "10        3      1      1        True     False\n",
      "11        1      0      0        True     False\n",
      "..      ...    ...    ...         ...       ...\n",
      "871       1      1      1        True     False\n",
      "872       1      0      0       False      True\n",
      "879       1      0      1        True     False\n",
      "887       1      0      0        True     False\n",
      "889       1      0      0       False      True\n",
      "\n",
      "[183 rows x 5 columns]\n",
      "Your submission was successfully saved!\n"
     ]
    }
   ],
   "source": [
    "from sklearn.ensemble import RandomForestClassifier\n",
    "\n",
    "y = train_data[\"Survived\"]\n",
    "features = [\"Pclass\", \"Sex\", \"SibSp\", \"Parch\"]\n",
    "X = pd.get_dummies(train_data[features])\n",
    "print(X)\n",
    "X_test = pd.get_dummies(test_data[features])\n",
    "model = RandomForestClassifier(n_estimators=100, max_depth=5, random_state=1)\n",
    "model.fit(X, y)\n",
    "predictions = model.predict(X_test)\n",
    "\n",
    "output = pd.DataFrame({'PassengerId': test_data.PassengerId, 'Survived': predictions})\n",
    "output.to_csv('submission.csv', index=False)\n",
    "print(\"Your submission was successfully saved!\")"
   ]
  }
 ],
 "metadata": {
  "kaggle": {
   "accelerator": "none",
   "dataSources": [
    {
     "databundleVersionId": 26502,
     "sourceId": 3136,
     "sourceType": "competition"
    }
   ],
   "dockerImageVersionId": 30761,
   "isGpuEnabled": false,
   "isInternetEnabled": true,
   "language": "python",
   "sourceType": "notebook"
  },
  "kernelspec": {
   "display_name": "Python 3",
   "language": "python",
   "name": "python3"
  },
  "language_info": {
   "codemirror_mode": {
    "name": "ipython",
    "version": 3
   },
   "file_extension": ".py",
   "mimetype": "text/x-python",
   "name": "python",
   "nbconvert_exporter": "python",
   "pygments_lexer": "ipython3",
   "version": "3.10.14"
  },
  "papermill": {
   "default_parameters": {},
   "duration": 6.439441,
   "end_time": "2024-09-14T01:42:15.012761",
   "environment_variables": {},
   "exception": null,
   "input_path": "__notebook__.ipynb",
   "output_path": "__notebook__.ipynb",
   "parameters": {},
   "start_time": "2024-09-14T01:42:08.573320",
   "version": "2.6.0"
  }
 },
 "nbformat": 4,
 "nbformat_minor": 5
}
